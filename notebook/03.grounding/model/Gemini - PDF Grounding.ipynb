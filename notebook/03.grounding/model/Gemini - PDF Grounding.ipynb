{
 "cells": [
  {
   "cell_type": "markdown",
   "metadata": {},
   "source": [
    "Copyright 2024 shins777@gmail.com\n",
    "\n",
    "Licensed under the Apache License, Version 2.0 (the \"License\");\n",
    "you may not use this file except in compliance with the License.\n",
    "You may obtain a copy of the License at\n",
    "\n",
    "   https://www.apache.org/licenses/LICENSE-2.0\n",
    "\n",
    "Unless required by applicable law or agreed to in writing, software\n",
    "distributed under the License is distributed on an \"AS IS\" BASIS,\n",
    "WITHOUT WARRANTIES OR CONDITIONS OF ANY KIND, either express or implied.\n",
    "See the License for the specific language governing permissions and\n",
    "limitations under the License."
   ]
  },
  {
   "cell_type": "markdown",
   "metadata": {},
   "source": [
    "## Gemini Pro - Grounding Service : PDF reading.\n",
    "\n",
    "Feedback : shins777@gmail.com. \n",
    "\n",
    "* 이 Colab 은 Google Gemini 사용시 Multimodal 환경에서 PDF 파일을 직접 읽어서 Grounding service로 활용하기 위한 예제입니다."
   ]
  },
  {
   "cell_type": "code",
   "execution_count": 2,
   "metadata": {},
   "outputs": [
    {
     "name": "stdout",
     "output_type": "stream",
     "text": [
      "Note: you may need to restart the kernel to use updated packages.\n"
     ]
    }
   ],
   "source": [
    "%pip install --upgrade --quiet google-cloud-aiplatform"
   ]
  },
  {
   "cell_type": "code",
   "execution_count": 18,
   "metadata": {},
   "outputs": [],
   "source": [
    "from IPython.display import display, Markdown"
   ]
  },
  {
   "cell_type": "markdown",
   "metadata": {},
   "source": [
    "### GCP 프로젝트 및 리전 설정\n",
    "본인의 GCP 환경에 맞게 아래 설정을 구성하세요.  \n",
    "* 구글의 최신버전인 gemini pro 사용을 권고드립니다.   \n",
    "* 현재 Gemini는 한국리전(asia-northeast3)을 통해서 접근이 가능합니다."
   ]
  },
  {
   "cell_type": "code",
   "execution_count": 11,
   "metadata": {},
   "outputs": [],
   "source": [
    "MODEL=\"gemini-1.5-pro-preview-0409\"\n",
    "PROJECT_ID=\"ai-hangsik\"\n",
    "REGION=\"us-central1\""
   ]
  },
  {
   "cell_type": "code",
   "execution_count": 5,
   "metadata": {},
   "outputs": [],
   "source": [
    "import base64\n",
    "\n",
    "def get_obj_content(coding='utf-8', obj_loc=\"\"):\n",
    "    with open(obj_loc, 'rb') as f:\n",
    "        obj_data = base64.b64encode(f.read()).decode(coding)\n",
    "        return obj_data"
   ]
  },
  {
   "cell_type": "code",
   "execution_count": 15,
   "metadata": {},
   "outputs": [],
   "source": [
    "import base64\n",
    "import vertexai\n",
    "from vertexai.generative_models import GenerativeModel, Part, FinishReason\n",
    "import vertexai.preview.generative_models as generative_models\n",
    "\n",
    "def generate(file_path:str, query:str):\n",
    "\n",
    "    vertexai.init(project=PROJECT_ID, location=REGION)\n",
    "    model = GenerativeModel(MODEL)\n",
    "  \n",
    "    pdf_obj = get_obj_content(obj_loc=file_path)\n",
    "    doc_obj = Part.from_data(data=base64.b64decode(pdf_obj), mime_type=\"application/pdf\")\n",
    "  \n",
    "    generation_config = {\n",
    "        \"max_output_tokens\": 8192,\n",
    "        \"temperature\": 1,\n",
    "        \"top_p\": 0.95,\n",
    "    }\n",
    "  \n",
    "    safety_settings = {\n",
    "        generative_models.HarmCategory.HARM_CATEGORY_HATE_SPEECH: generative_models.HarmBlockThreshold.BLOCK_MEDIUM_AND_ABOVE,\n",
    "        generative_models.HarmCategory.HARM_CATEGORY_DANGEROUS_CONTENT: generative_models.HarmBlockThreshold.BLOCK_MEDIUM_AND_ABOVE,\n",
    "        generative_models.HarmCategory.HARM_CATEGORY_SEXUALLY_EXPLICIT: generative_models.HarmBlockThreshold.BLOCK_MEDIUM_AND_ABOVE,\n",
    "        generative_models.HarmCategory.HARM_CATEGORY_HARASSMENT: generative_models.HarmBlockThreshold.BLOCK_MEDIUM_AND_ABOVE,\n",
    "    }\n",
    "\n",
    "    responses = model.generate_content(\n",
    "        [doc_obj, query],\n",
    "        generation_config=generation_config,\n",
    "        safety_settings=safety_settings,\n",
    "        stream=True,\n",
    "    )\n",
    "\n",
    "    return responses\n"
   ]
  },
  {
   "cell_type": "code",
   "execution_count": 20,
   "metadata": {},
   "outputs": [
    {
     "name": "stdout",
     "output_type": "stream",
     "text": [
      "## 무신사 지배주주순이익률 하락 분석 (2019년 대비 2020년)\n",
      "\n",
      "무신사의 지배주주순이익률은 2019년 19.7%에서 2020년 11.3%로 8.4%p 하락했습니다. 이러한 하락의 주요 원인은 다음과 같습니다.\n",
      "\n",
      "**1. 매출원가 및 판매관리비 증가:**\n",
      "\n",
      "* **매출원가 증가:** 무신사 스탠다드 등 자체 PB 상품 판매 확대로 인해 매출원가가 증가했습니다. \n",
      "* **판매관리비 증가:** 특히 광고선전비가 크게 증가했는데, 이는 TV 광고 등 공격적인 마케팅 활동에 기인합니다. \n",
      "\n",
      "**2. 영업외손익 감소:**\n",
      "\n",
      "* 2019년에는 이자수익 및 기타영업외손익이 증가하며 영업외손익이 2.8억원 발생했으나, 2020년에는 이자비용 및 기타영업외손익 증가로 -5.4억원의 영업외손실이 발생했습니다. \n",
      "\n",
      "**3. 법인세비용 감소:**\n",
      "\n",
      "* 2020년 법인세비용은 2.6억원으로 2019년 8.6억원 대비 크게 감소했습니다. 이는 법인세율 변동 또는 세액공제 등의 요인에 의한 것으로 추정됩니다. \n",
      "\n",
      "**결론적으로, 매출원가 및 판매관리비 증가 등으로 인해 영업이익이 감소했고, 영업외손익도 악화되면서 지배주주순이익률이 하락했습니다. 하지만, 무신사는 여전히 흑자 기조를 유지하고 있으며,  공격적인 마케팅 및 투자 활동으로 인한 일시적인 현상일 가능성도 있습니다. 향후 무신사의 수익성 개선 여부를 지속적으로  모니터링할 필요가 있습니다.** \n"
     ]
    }
   ],
   "source": [
    "file_path = \"/home/admin_/google_gen_ai_sample/contents/pdfs/20211102083535653K.pdf\"\n",
    "#query = \"표 2. 온라인 패션 플랫폼별 구입 가격대 현황에 따르면 29CM 에서의 30,000~50,000 가격대는 몇퍼센트인가요 ?\"\n",
    "query = \"Earnings & Investment Ratios 그래프에서 지배주주순이익률 (%) 의 경우 2019A 와 2020A 를 비교해서 설명해주세요. \"\n",
    "\n",
    "responses = generate(file_path, query)\n",
    "\n",
    "for response in responses:\n",
    "    print(response.text, end=\"\")"
   ]
  }
 ],
 "metadata": {
  "kernelspec": {
   "display_name": "Python 3",
   "language": "python",
   "name": "python3"
  },
  "language_info": {
   "codemirror_mode": {
    "name": "ipython",
    "version": 3
   },
   "file_extension": ".py",
   "mimetype": "text/x-python",
   "name": "python",
   "nbconvert_exporter": "python",
   "pygments_lexer": "ipython3",
   "version": "3.10.12"
  }
 },
 "nbformat": 4,
 "nbformat_minor": 2
}
