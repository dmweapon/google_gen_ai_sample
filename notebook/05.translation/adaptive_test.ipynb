{
 "cells": [
  {
   "cell_type": "code",
   "execution_count": 1,
   "metadata": {},
   "outputs": [],
   "source": [
    "# Feedback to shins777@gmail.com"
   ]
  },
  {
   "cell_type": "markdown",
   "metadata": {},
   "source": []
  },
  {
   "cell_type": "code",
   "execution_count": 2,
   "metadata": {},
   "outputs": [],
   "source": [
    "%load_ext autoreload\n",
    "%autoreload 2"
   ]
  },
  {
   "cell_type": "code",
   "execution_count": 1,
   "metadata": {},
   "outputs": [
    {
     "name": "stdout",
     "output_type": "stream",
     "text": [
      "Note: you may need to restart the kernel to use updated packages.\n"
     ]
    }
   ],
   "source": [
    "%pip install --upgrade --quiet google-cloud-translate"
   ]
  },
  {
   "cell_type": "code",
   "execution_count": 3,
   "metadata": {},
   "outputs": [],
   "source": [
    "from IPython.display import display, Markdown"
   ]
  },
  {
   "cell_type": "code",
   "execution_count": 5,
   "metadata": {},
   "outputs": [
    {
     "name": "stdout",
     "output_type": "stream",
     "text": [
      "<google.cloud.translate_v3.services.translation_service.client.TranslationServiceClient object at 0x7d1e359d3f70>\n"
     ]
    }
   ],
   "source": [
    "from adaptive import AdaptiveTest\n",
    "\n",
    "svc_acct_file = \"/home/admin_/keys/ai-hangsik-71898c80c9a5.json\"\n",
    "adaptive = AdaptiveTest(svc_acct_file)"
   ]
  },
  {
   "cell_type": "code",
   "execution_count": 6,
   "metadata": {},
   "outputs": [],
   "source": [
    "import uuid\n",
    "\n",
    "PROJECT_ID=\"ai-hangsik\"\n",
    "REGION=\"us-central1\"\n",
    "DATASET_FILE = \"gs://hd-samho/adaptive_dataset.tsv\"\n",
    "\n",
    "DATASET_ID = f\"adaptive-{uuid.uuid4()}\"\n",
    "SRC_LANG = \"ko\"\n",
    "TAR_LANG = \"en\""
   ]
  },
  {
   "cell_type": "code",
   "execution_count": 7,
   "metadata": {},
   "outputs": [
    {
     "name": "stdout",
     "output_type": "stream",
     "text": [
      "[AdaptiveTest][create_adaptive_mt_dataset] : name: \"projects/ai-hangsik/locations/us-central1/adaptiveMtDatasets/adaptive-ced113a3-6272-4347-9afd-0a1b0ca3ae6c\"\n",
      "display_name: \"adaptive-ced113a3-6272-4347-9afd-0a1b0ca3ae6c\"\n",
      "source_language_code: \"ko\"\n",
      "target_language_code: \"en\"\n",
      "\n",
      "name: \"projects/ai-hangsik/locations/us-central1/adaptiveMtDatasets/adaptive-ced113a3-6272-4347-9afd-0a1b0ca3ae6c\"\n",
      "display_name: \"adaptive-ced113a3-6272-4347-9afd-0a1b0ca3ae6c\"\n",
      "source_language_code: \"ko\"\n",
      "target_language_code: \"en\"\n",
      "\n"
     ]
    }
   ],
   "source": [
    "\n",
    "result = adaptive.create_adaptive_mt_dataset(\n",
    "        project_id = PROJECT_ID,\n",
    "        location = REGION,\n",
    "        dataset_id = DATASET_ID,\n",
    "        display_name = DATASET_ID,\n",
    "        source_language_code = SRC_LANG,\n",
    "        target_language_code = TAR_LANG\n",
    "\n",
    "    )\n"
   ]
  },
  {
   "cell_type": "code",
   "execution_count": 12,
   "metadata": {},
   "outputs": [
    {
     "name": "stdout",
     "output_type": "stream",
     "text": [
      "ai-hangsik\n",
      "us-central1\n",
      "adaptive-ced113a3-6272-4347-9afd-0a1b0ca3ae6c\n",
      "gs://hd-samho/adaptive_dataset.tsv\n",
      "[AdaptiveTest][import_adaptive_mt_file] : adaptive_mt_file {\n",
      "  name: \"projects/ai-hangsik/locations/us-central1/adaptiveMtDatasets/adaptive-ced113a3-6272-4347-9afd-0a1b0ca3ae6c/adaptiveMtFiles/17096015421338505084\"\n",
      "  display_name: \"adaptive_dataset.tsv\"\n",
      "  entry_count: 26\n",
      "}\n",
      "\n"
     ]
    }
   ],
   "source": [
    "\n",
    "result = adaptive.import_adaptive_mt_file(\n",
    "    project_id = PROJECT_ID,\n",
    "    location = REGION,\n",
    "    dataset_id = DATASET_ID,\n",
    "    input_file_uri = DATASET_FILE\n",
    ")\n",
    "\n"
   ]
  },
  {
   "cell_type": "code",
   "execution_count": 28,
   "metadata": {},
   "outputs": [
    {
     "name": "stdout",
     "output_type": "stream",
     "text": [
      "헤라로 도장면을 벗겨내다 : Remove the paint surface with a putty knife\n",
      "헤라로 페인트 캔 오픈해라 : Open the lid of the paint can with a putty knife.\n",
      "헤라로 까라 : Open the lid of the paint can with a putty knife.\n",
      "뼁끼 까라 : Paint the paint\n",
      "페인트 다시 칠해라 : Paint again\n",
      "리페아 봐라 : Look at the lyre\n",
      "검사하면서 마킹한 곳 덧칠해라 : Paint over the marked areas during inspection.\n",
      "마킹한 데 잡아라 : Catch the marked area\n",
      "믹싱해라 : Mix\n",
      "뼁끼 믹싱해라 : Mix the paint\n",
      "허리라인 잡아라 : Hold your waist line\n",
      "고시라인 잡아라 : Catch the notice line\n",
      "고소 작업할 때 장대로 작업해라 : Paint using the long pole when working on the aerial platform\n",
      "장대질 해라 : Use a pole\n",
      "그라인더 기름 뺄 때 튀지 않게 조심해라 : Be careful not to spill the grader oil\n",
      "기름 잘 빼라 : Drain the oil well\n",
      "에어불이 작업해라 : Do air blowing work\n",
      "에어블로잉 작업해라 : Do air blasting work\n",
      "도료용 호스가 엉키지 않게 작업해라 : Work the hose for the paint so it doesn't get tangled.\n",
      "온도나 습도 등 도장할 상태가 안 된다. : The paint cannot be painted due to temperature or humidity.\n",
      "조건이 안 된다 : The conditions are not met\n",
      "뼁끼 통 만들어라 : Attach the MSDS label to the paint distribution container.\n",
      "도료 소분용기에 MSDS 표지 붙여라. : Attach the MSDS label to the paint distribution container.\n"
     ]
    }
   ],
   "source": [
    "text_list = ['헤라로 도장면을 벗겨내다', \n",
    "            '헤라로 페인트 캔 오픈해라',\n",
    "            '헤라로 까라',\n",
    "            '뼁끼 까라',\n",
    "            '페인트 다시 칠해라',\n",
    "            '리페아 봐라',\n",
    "            '검사하면서 마킹한 곳 덧칠해라',\n",
    "            '마킹한 데 잡아라',\n",
    "            '믹싱해라',\n",
    "            '뼁끼 믹싱해라',\n",
    "            '허리라인 잡아라',\n",
    "            '고시라인 잡아라',\n",
    "            '고소 작업할 때 장대로 작업해라',\n",
    "\n",
    "            '장대질 해라',\n",
    "            '그라인더 기름 뺄 때 튀지 않게 조심해라',\n",
    "            '기름 잘 빼라',\n",
    "            '에어불이 작업해라',            \n",
    "            \n",
    "            '에어블로잉 작업해라',\n",
    "            '도료용 호스가 엉키지 않게 작업해라',\n",
    "            '온도나 습도 등 도장할 상태가 안 된다.',\n",
    "            '조건이 안 된다',                      \n",
    "\n",
    "            '뼁끼 통 만들어라',\n",
    "            '도료 소분용기에 MSDS 표지 붙여라.',                  \n",
    "            ]\n",
    "\n",
    "for INPUT_TEXT in text_list:\n",
    "\n",
    "    result = adaptive.adaptive_mt_translate(\n",
    "        project_id = PROJECT_ID,\n",
    "        location = REGION,\n",
    "        dataset_id = DATASET_ID,\n",
    "        input_text = INPUT_TEXT\n",
    "    )\n",
    "    print(f\"{INPUT_TEXT} : {result.translations[0].translated_text}\")"
   ]
  },
  {
   "cell_type": "code",
   "execution_count": null,
   "metadata": {},
   "outputs": [],
   "source": []
  }
 ],
 "metadata": {
  "kernelspec": {
   "display_name": "Python 3",
   "language": "python",
   "name": "python3"
  },
  "language_info": {
   "codemirror_mode": {
    "name": "ipython",
    "version": 3
   },
   "file_extension": ".py",
   "mimetype": "text/x-python",
   "name": "python",
   "nbconvert_exporter": "python",
   "pygments_lexer": "ipython3",
   "version": "3.9.2"
  }
 },
 "nbformat": 4,
 "nbformat_minor": 2
}
