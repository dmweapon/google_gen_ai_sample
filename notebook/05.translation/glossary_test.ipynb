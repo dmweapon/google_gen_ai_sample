{
 "cells": [
  {
   "cell_type": "markdown",
   "metadata": {},
   "source": [
    "## Translation - Glossary\n",
    "\n",
    "Feedback : shins777@gmail.com. \n"
   ]
  },
  {
   "cell_type": "code",
   "execution_count": 5,
   "metadata": {},
   "outputs": [
    {
     "name": "stdout",
     "output_type": "stream",
     "text": [
      "Note: you may need to restart the kernel to use updated packages.\n"
     ]
    }
   ],
   "source": [
    "%pip install --upgrade --quiet google-cloud-translate"
   ]
  },
  {
   "cell_type": "code",
   "execution_count": 6,
   "metadata": {},
   "outputs": [],
   "source": [
    "%load_ext autoreload\n",
    "%autoreload 2"
   ]
  },
  {
   "cell_type": "code",
   "execution_count": 7,
   "metadata": {},
   "outputs": [],
   "source": [
    "from IPython.display import display, Markdown"
   ]
  },
  {
   "cell_type": "code",
   "execution_count": 22,
   "metadata": {},
   "outputs": [
    {
     "name": "stdout",
     "output_type": "stream",
     "text": [
      "<google.cloud.translate_v3.services.translation_service.client.TranslationServiceClient object at 0x78b19b7258b0>\n",
      "<glossary.TranslationTest object at 0x78b1b41913a0>\n",
      "<google.cloud.translate_v3.services.translation_service.client.TranslationServiceClient object at 0x78b19b7258b0>\n"
     ]
    }
   ],
   "source": [
    "from glossary import TranslationTest\n",
    "\n",
    "svc_acct_file = \"/home/admin_/keys/ai-hangsik-71898c80c9a5.json\"\n",
    "trans = GlossaryTest(svc_acct_file)"
   ]
  },
  {
   "cell_type": "code",
   "execution_count": 50,
   "metadata": {},
   "outputs": [
    {
     "name": "stdout",
     "output_type": "stream",
     "text": [
      "project id ai-hangsik\n",
      "region id us-central1\n",
      "client id <google.cloud.translate_v3.services.translation_service.client.TranslationServiceClient object at 0x78b19b7258b0>\n",
      "Glossary Created: projects/721521243942/locations/us-central1/glossaries/test-ce96c711-a5ef-4fd7-b440-54f0535e963b\n",
      "Input Uri: gs://hd-samho/glossary.csv\n"
     ]
    }
   ],
   "source": [
    "import uuid\n",
    "\n",
    "PROJECT_ID=\"ai-hangsik\"\n",
    "REGION=\"us-central1\"\n",
    "GLOSSARY_FILE = \"gs://hd-samho/glossary.csv\"\n",
    "\n",
    "GLOSSARY_ID = f\"test-{uuid.uuid4()}\"\n",
    "SRC_LANG = \"ko\"\n",
    "TAR_LANG = \"en\"\n",
    "\n",
    "result = trans.create_glossary(\n",
    "                project_id=PROJECT_ID, \n",
    "                location = REGION, \n",
    "                glossary_file = GLOSSARY_FILE, \n",
    "                glossary_id = GLOSSARY_ID , \n",
    "                source_lang_code = SRC_LANG, \n",
    "                target_lang_code = TAR_LANG\n",
    ")\n",
    "\n",
    "print(f\"GLOSSARY_ID: {GLOSSARY_ID}\")\n"
   ]
  },
  {
   "cell_type": "code",
   "execution_count": 58,
   "metadata": {},
   "outputs": [
    {
     "name": "stdout",
     "output_type": "stream",
     "text": [
      "Translated text: \n",
      "\n",
      "\t Enter the block and do welding with air coution\n"
     ]
    }
   ],
   "source": [
    "input_str = \"블록에 들어가서 에어 불다\"\n",
    "GLOSSARY_ID = \"test-ce96c711-a5ef-4fd7-b440-54f0535e963b\"\n",
    "\n",
    "response = trans.translate_with_glossary( \n",
    "            text = input_str, \n",
    "            project_id = PROJECT_ID, \n",
    "            location = REGION,  \n",
    "            glossary_id = GLOSSARY_ID,\n",
    "            source_lang_code = SRC_LANG, \n",
    "            target_lang_code = TAR_LANG            \n",
    "            \n",
    "            )\n",
    "\n",
    "print(\"Translated text: \\n\")\n",
    "for translation in response.glossary_translations:\n",
    "    print(f\"\\t {translation.translated_text}\")"
   ]
  },
  {
   "cell_type": "code",
   "execution_count": 56,
   "metadata": {},
   "outputs": [
    {
     "name": "stdout",
     "output_type": "stream",
     "text": [
      "glossary id: test-ce96c711-a5ef-4fd7-b440-54f0535e963b\n"
     ]
    }
   ],
   "source": [
    "result = trans.list_glossaries(project_id=PROJECT_ID, location=REGION)"
   ]
  },
  {
   "cell_type": "code",
   "execution_count": 45,
   "metadata": {},
   "outputs": [
    {
     "name": "stdout",
     "output_type": "stream",
     "text": [
      "Deleted: projects/721521243942/locations/us-central1/glossaries/glossary-1b26afe9-0d0a-4e08-838e-90e7db8c0ad0\n"
     ]
    }
   ],
   "source": [
    "result = trans.delete_glossary(\n",
    "                project_id = PROJECT_ID, \n",
    "                location = REGION,\n",
    "                glossary_id = \"glossary-1b26afe9-0d0a-4e08-838e-90e7db8c0ad0\",\n",
    ")    "
   ]
  }
 ],
 "metadata": {
  "kernelspec": {
   "display_name": "Python 3",
   "language": "python",
   "name": "python3"
  },
  "language_info": {
   "codemirror_mode": {
    "name": "ipython",
    "version": 3
   },
   "file_extension": ".py",
   "mimetype": "text/x-python",
   "name": "python",
   "nbconvert_exporter": "python",
   "pygments_lexer": "ipython3",
   "version": "3.9.2"
  }
 },
 "nbformat": 4,
 "nbformat_minor": 2
}
