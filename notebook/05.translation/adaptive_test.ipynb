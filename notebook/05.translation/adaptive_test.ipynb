{
 "cells": [
  {
   "cell_type": "markdown",
   "metadata": {},
   "source": [
    "Copyright 2024 shins777@gmail.com\n",
    "\n",
    "Licensed under the Apache License, Version 2.0 (the \"License\");\n",
    "you may not use this file except in compliance with the License.\n",
    "You may obtain a copy of the License at\n",
    "\n",
    "   https://www.apache.org/licenses/LICENSE-2.0\n",
    "\n",
    "Unless required by applicable law or agreed to in writing, software\n",
    "distributed under the License is distributed on an \"AS IS\" BASIS,\n",
    "WITHOUT WARRANTIES OR CONDITIONS OF ANY KIND, either express or implied.\n",
    "See the License for the specific language governing permissions and\n",
    "limitations under the License."
   ]
  },
  {
   "cell_type": "code",
   "execution_count": null,
   "metadata": {},
   "outputs": [],
   "source": [
    "## Adaptive translation\n",
    "\n",
    "Feedback : shins777@gmail.com. \n",
    "\n",
    "Adaptive Translation은 기존의 NMT 기반의 translation 기반에서 다양한 생성형 AI의 스타일을 적용해서 좀더 번역의 품질을 높여주는 기능을 하는 기능입니다."
   ]
  },
  {
   "cell_type": "markdown",
   "metadata": {},
   "source": [
    "### 환경설정"
   ]
  },
  {
   "cell_type": "code",
   "execution_count": null,
   "metadata": {},
   "outputs": [],
   "source": [
    "%pip install --upgrade --quiet google-cloud-translate"
   ]
  },
  {
   "cell_type": "code",
   "execution_count": 41,
   "metadata": {},
   "outputs": [
    {
     "name": "stdout",
     "output_type": "stream",
     "text": [
      "The autoreload extension is already loaded. To reload it, use:\n",
      "  %reload_ext autoreload\n"
     ]
    }
   ],
   "source": [
    "%load_ext autoreload\n",
    "%autoreload 2"
   ]
  },
  {
   "cell_type": "code",
   "execution_count": 43,
   "metadata": {},
   "outputs": [],
   "source": [
    "from IPython.display import display, Markdown"
   ]
  },
  {
   "cell_type": "code",
   "execution_count": 44,
   "metadata": {},
   "outputs": [
    {
     "name": "stdout",
     "output_type": "stream",
     "text": [
      "<google.cloud.translate_v3.services.translation_service.client.TranslationServiceClient object at 0x7d1e24596430>\n"
     ]
    }
   ],
   "source": [
    "from adaptive import AdaptiveTest\n",
    "\n",
    "svc_acct_file = \"/home/admin_/keys/ai-hangsik-71898c80c9a5.json\"\n",
    "adaptive = AdaptiveTest(svc_acct_file)"
   ]
  },
  {
   "cell_type": "code",
   "execution_count": 45,
   "metadata": {},
   "outputs": [],
   "source": [
    "import uuid\n",
    "\n",
    "PROJECT_ID=\"ai-hangsik\"\n",
    "REGION=\"us-central1\"\n",
    "DATASET_FILE = \"gs://hd-samho/adaptive_dataset.tsv\"\n",
    "\n",
    "DATASET_ID = f\"adaptive-{uuid.uuid4()}\"\n",
    "SRC_LANG = \"ko\"\n",
    "TAR_LANG = \"en\""
   ]
  },
  {
   "cell_type": "code",
   "execution_count": 46,
   "metadata": {},
   "outputs": [
    {
     "name": "stdout",
     "output_type": "stream",
     "text": [
      "[AdaptiveTest][create_adaptive_mt_dataset] : name: \"projects/ai-hangsik/locations/us-central1/adaptiveMtDatasets/adaptive-3413e925-a025-412f-be99-aef3ad4a6f23\"\n",
      "display_name: \"adaptive-3413e925-a025-412f-be99-aef3ad4a6f23\"\n",
      "source_language_code: \"ko\"\n",
      "target_language_code: \"en\"\n",
      "\n"
     ]
    }
   ],
   "source": [
    "\n",
    "result = adaptive.create_adaptive_mt_dataset(\n",
    "        project_id = PROJECT_ID,\n",
    "        location = REGION,\n",
    "        dataset_id = DATASET_ID,\n",
    "        display_name = DATASET_ID,\n",
    "        source_language_code = SRC_LANG,\n",
    "        target_language_code = TAR_LANG\n",
    "\n",
    "    )\n"
   ]
  },
  {
   "cell_type": "code",
   "execution_count": 47,
   "metadata": {},
   "outputs": [
    {
     "name": "stdout",
     "output_type": "stream",
     "text": [
      "ai-hangsik\n",
      "us-central1\n",
      "adaptive-3413e925-a025-412f-be99-aef3ad4a6f23\n",
      "gs://hd-samho/adaptive_dataset.tsv\n",
      "[AdaptiveTest][import_adaptive_mt_file] : adaptive_mt_file {\n",
      "  name: \"projects/ai-hangsik/locations/us-central1/adaptiveMtDatasets/adaptive-3413e925-a025-412f-be99-aef3ad4a6f23/adaptiveMtFiles/6452037949936368759\"\n",
      "  display_name: \"adaptive_dataset.tsv\"\n",
      "  entry_count: 26\n",
      "}\n",
      "\n"
     ]
    }
   ],
   "source": [
    "\n",
    "result = adaptive.import_adaptive_mt_file(\n",
    "    project_id = PROJECT_ID,\n",
    "    location = REGION,\n",
    "    dataset_id = DATASET_ID,\n",
    "    input_file_uri = DATASET_FILE\n",
    ")\n",
    "\n"
   ]
  },
  {
   "cell_type": "code",
   "execution_count": 48,
   "metadata": {},
   "outputs": [
    {
     "name": "stdout",
     "output_type": "stream",
     "text": [
      "헤라로 도장면을 벗겨내다 : Remove the paint surface with a spatula\n",
      "헤라로 페인트 캔 오픈해라 : Open the Hera paint can.\n",
      "헤라로 까라 : Paint with Hera\n",
      "뼁끼 까라 : Open the lid of the paint can..\n",
      "페인트 다시 칠해라 : Paint again\n",
      "리페아 봐라 : Look at the ripia\n",
      "검사하면서 마킹한 곳 덧칠해라 : Fill in the marked areas while inspecting\n",
      "마킹한 데 잡아라 : Keep the marking\n",
      "믹싱해라 : Mix\n",
      "뼁끼 믹싱해라 : Mix the paint\n",
      "허리라인 잡아라 : Keep the green colored middle line for painting\n",
      "고시라인 잡아라 : Keep the green colored middle line for painting\n",
      "고소 작업할 때 장대로 작업해라 : Paint using the long pole when working at height\n",
      "장대질 해라 : Use the long pole\n",
      "그라인더 기름 뺄 때 튀지 않게 조심해라 : Be careful not to spill any grease when removing the grinder oil\n",
      "기름 잘 빼라 : Drain the oil well\n",
      "에어불이 작업해라 : Do air fire work\n",
      "에어블로잉 작업해라 : Do air blowing work\n",
      "도료용 호스가 엉키지 않게 작업해라 : Work with the paint hose so it doesn't get tangled.\n",
      "온도나 습도 등 도장할 상태가 안 된다. : Conditions such as temperature and humidity are not suitable for painting.\n",
      "조건이 안 된다 : The conditions are not suitable\n",
      "뼁끼 통 만들어라 : Make a paint can\n",
      "도료 소분용기에 MSDS 표지 붙여라. : Attach the MSDS label to the paint container.\n"
     ]
    }
   ],
   "source": [
    "text_list = ['헤라로 도장면을 벗겨내다', \n",
    "            '헤라로 페인트 캔 오픈해라',\n",
    "            '헤라로 까라',\n",
    "            '뼁끼 까라',\n",
    "            '페인트 다시 칠해라',\n",
    "            '리페아 봐라',\n",
    "            '검사하면서 마킹한 곳 덧칠해라',\n",
    "            '마킹한 데 잡아라',\n",
    "            '믹싱해라',\n",
    "            '뼁끼 믹싱해라',\n",
    "            '허리라인 잡아라',\n",
    "            '고시라인 잡아라',\n",
    "            '고소 작업할 때 장대로 작업해라',\n",
    "\n",
    "            '장대질 해라',\n",
    "            '그라인더 기름 뺄 때 튀지 않게 조심해라',\n",
    "            '기름 잘 빼라',\n",
    "            '에어불이 작업해라',            \n",
    "            \n",
    "            '에어블로잉 작업해라',\n",
    "            '도료용 호스가 엉키지 않게 작업해라',\n",
    "            '온도나 습도 등 도장할 상태가 안 된다.',\n",
    "            '조건이 안 된다',                      \n",
    "\n",
    "            '뼁끼 통 만들어라',\n",
    "            '도료 소분용기에 MSDS 표지 붙여라.',                  \n",
    "            ]\n",
    "\n",
    "for INPUT_TEXT in text_list:\n",
    "\n",
    "    result = adaptive.adaptive_mt_translate(\n",
    "        project_id = PROJECT_ID,\n",
    "        location = REGION,\n",
    "        dataset_id = DATASET_ID,\n",
    "        input_text = INPUT_TEXT\n",
    "    )\n",
    "    print(f\"{INPUT_TEXT} : {result.translations[0].translated_text}\")"
   ]
  },
  {
   "cell_type": "code",
   "execution_count": 49,
   "metadata": {},
   "outputs": [
    {
     "name": "stdout",
     "output_type": "stream",
     "text": [
      "ListAdaptiveMtDatasetsPager<adaptive_mt_datasets {\n",
      "  name: \"projects/ai-hangsik/locations/us-central1/adaptiveMtDatasets/adaptive-3413e925-a025-412f-be99-aef3ad4a6f23\"\n",
      "  display_name: \"adaptive-3413e925-a025-412f-be99-aef3ad4a6f23\"\n",
      "  source_language_code: \"ko\"\n",
      "  target_language_code: \"en\"\n",
      "  example_count: 26\n",
      "}\n",
      ">\n"
     ]
    }
   ],
   "source": [
    "adaptive.list_adaptive_mt_datasets(\n",
    "            project_id = PROJECT_ID,\n",
    "            location = REGION)"
   ]
  },
  {
   "cell_type": "code",
   "execution_count": 51,
   "metadata": {},
   "outputs": [
    {
     "name": "stdout",
     "output_type": "stream",
     "text": [
      "ListAdaptiveMtFilesPager<adaptive_mt_files {\n",
      "  name: \"projects/ai-hangsik/locations/us-central1/adaptiveMtDatasets/adaptive-3413e925-a025-412f-be99-aef3ad4a6f23/adaptiveMtFiles/6452037949936368759\"\n",
      "  display_name: \"adaptive_dataset.tsv\"\n",
      "  entry_count: 26\n",
      "}\n",
      ">\n"
     ]
    }
   ],
   "source": [
    "adaptive.list_adaptive_mt_files(\n",
    "            project_id = PROJECT_ID,\n",
    "            location = REGION,\n",
    "            dataset_id = \"adaptive-3413e925-a025-412f-be99-aef3ad4a6f23\"\n",
    "    )"
   ]
  },
  {
   "cell_type": "code",
   "execution_count": null,
   "metadata": {},
   "outputs": [
    {
     "name": "stdout",
     "output_type": "stream",
     "text": [
      "None\n"
     ]
    }
   ],
   "source": [
    "adaptive.delete_adaptive_mt_file(\n",
    "            project_id = PROJECT_ID,\n",
    "            location = REGION,\n",
    "            dataset_id = \"adaptive-ced113a3-6272-4347-9afd-0a1b0ca3ae6c\",\n",
    "            file_id = \"17096015421338505084\"\n",
    ")"
   ]
  },
  {
   "cell_type": "code",
   "execution_count": null,
   "metadata": {},
   "outputs": [
    {
     "name": "stdout",
     "output_type": "stream",
     "text": [
      "None\n"
     ]
    }
   ],
   "source": [
    "adaptive.delete_adaptive_mt_dataset(\n",
    "            project_id = PROJECT_ID,\n",
    "            location = REGION,\n",
    "            dataset_id = \"adaptive-ced113a3-6272-4347-9afd-0a1b0ca3ae6c\",\n",
    "            \n",
    "        )\n"
   ]
  }
 ],
 "metadata": {
  "kernelspec": {
   "display_name": "Python 3",
   "language": "python",
   "name": "python3"
  },
  "language_info": {
   "codemirror_mode": {
    "name": "ipython",
    "version": 3
   },
   "file_extension": ".py",
   "mimetype": "text/x-python",
   "name": "python",
   "nbconvert_exporter": "python",
   "pygments_lexer": "ipython3",
   "version": "3.9.2"
  }
 },
 "nbformat": 4,
 "nbformat_minor": 2
}
