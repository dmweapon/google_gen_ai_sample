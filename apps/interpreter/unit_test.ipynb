{
 "cells": [
  {
   "cell_type": "markdown",
   "metadata": {},
   "source": [
    " Copyright 2024 shins777@gmail.com\n",
    "\n",
    " Licensed under the Apache License, Version 2.0 (the \"License\");\n",
    " you may not use this file except in compliance with the License.\n",
    " You may obtain a copy of the License at\n",
    "\n",
    "    https://www.apache.org/licenses/LICENSE-2.0\n",
    "\n",
    " Unless required by applicable law or agreed to in writing, software\n",
    " distributed under the License is distributed on an \"AS IS\" BASIS,\n",
    " WITHOUT WARRANTIES OR CONDITIONS OF ANY KIND, either express or implied.\n",
    " See the License for the specific language governing permissions and\n",
    " limitations under the License."
   ]
  },
  {
   "cell_type": "code",
   "execution_count": 1,
   "metadata": {},
   "outputs": [
    {
     "name": "stdout",
     "output_type": "stream",
     "text": [
      "Note: you may need to restart the kernel to use updated packages.\n"
     ]
    }
   ],
   "source": [
    "%pip install --upgrade --quiet google-cloud-texttospeech google-cloud-translate google-cloud-speech google-cloud-aiplatform playsound"
   ]
  },
  {
   "cell_type": "code",
   "execution_count": 6,
   "metadata": {},
   "outputs": [
    {
     "name": "stdout",
     "output_type": "stream",
     "text": [
      "Reading package lists... Done\n",
      "Building dependency tree... Done\n",
      "Reading state information... Done\n",
      "The following additional packages will be installed:\n",
      "  libasound2-dev libjack-dev libjack0 libportaudio2 libportaudiocpp0\n",
      "Suggested packages:\n",
      "  libasound2-doc jackd1 portaudio19-doc\n",
      "The following NEW packages will be installed:\n",
      "  libasound2-dev libjack-dev libjack0 libportaudio2 libportaudiocpp0\n",
      "  portaudio19-dev\n",
      "0 upgraded, 6 newly installed, 0 to remove and 9 not upgraded.\n",
      "Need to get 596 kB of archives.\n",
      "After this operation, 4,350 kB of additional disk space will be used.\n",
      "Get:1 http://archive.ubuntu.com/ubuntu jammy/main amd64 libasound2-dev amd64 1.2.6.1-1ubuntu1 [110 kB]\n",
      "Get:2 http://archive.ubuntu.com/ubuntu jammy/universe amd64 libjack0 amd64 1:0.125.0-3build2 [93.3 kB]\n",
      "Get:3 http://archive.ubuntu.com/ubuntu jammy/universe amd64 libjack-dev amd64 1:0.125.0-3build2 [206 kB]\n",
      "Get:4 http://archive.ubuntu.com/ubuntu jammy/universe amd64 libportaudio2 amd64 19.6.0-1.1 [65.3 kB]\n",
      "Get:5 http://archive.ubuntu.com/ubuntu jammy/universe amd64 libportaudiocpp0 amd64 19.6.0-1.1 [16.1 kB]\n",
      "Get:6 http://archive.ubuntu.com/ubuntu jammy/universe amd64 portaudio19-dev amd64 19.6.0-1.1 [106 kB]\n",
      "Fetched 596 kB in 2s (282 kB/s)      \u001b[0m\u001b[33m\n",
      "debconf: delaying package configuration, since apt-utils is not installed\n",
      "\n",
      "\u001b7\u001b[0;23r\u001b8\u001b[1ASelecting previously unselected package libasound2-dev:amd64.\n",
      "(Reading database ... 121583 files and directories currently installed.)\n",
      "Preparing to unpack .../0-libasound2-dev_1.2.6.1-1ubuntu1_amd64.deb ...\n",
      "\u001b7\u001b[24;0f\u001b[42m\u001b[30mProgress: [  0%]\u001b[49m\u001b[39m [..........................................................] \u001b8\u001b7\u001b[24;0f\u001b[42m\u001b[30mProgress: [  4%]\u001b[49m\u001b[39m [##........................................................] \u001b8Unpacking libasound2-dev:amd64 (1.2.6.1-1ubuntu1) ...\n",
      "\u001b7\u001b[24;0f\u001b[42m\u001b[30mProgress: [  8%]\u001b[49m\u001b[39m [####......................................................] \u001b8Selecting previously unselected package libjack0:amd64.\n",
      "Preparing to unpack .../1-libjack0_1%3a0.125.0-3build2_amd64.deb ...\n",
      "\u001b7\u001b[24;0f\u001b[42m\u001b[30mProgress: [ 12%]\u001b[49m\u001b[39m [######....................................................] \u001b8Unpacking libjack0:amd64 (1:0.125.0-3build2) ...\n",
      "\u001b7\u001b[24;0f\u001b[42m\u001b[30mProgress: [ 16%]\u001b[49m\u001b[39m [#########.................................................] \u001b8Selecting previously unselected package libjack-dev.\n",
      "Preparing to unpack .../2-libjack-dev_1%3a0.125.0-3build2_amd64.deb ...\n",
      "\u001b7\u001b[24;0f\u001b[42m\u001b[30mProgress: [ 20%]\u001b[49m\u001b[39m [###########...............................................] \u001b8Unpacking libjack-dev (1:0.125.0-3build2) ...\n",
      "\u001b7\u001b[24;0f\u001b[42m\u001b[30mProgress: [ 24%]\u001b[49m\u001b[39m [#############.............................................] \u001b8Selecting previously unselected package libportaudio2:amd64.\n",
      "Preparing to unpack .../3-libportaudio2_19.6.0-1.1_amd64.deb ...\n",
      "\u001b7\u001b[24;0f\u001b[42m\u001b[30mProgress: [ 28%]\u001b[49m\u001b[39m [################..........................................] \u001b8Unpacking libportaudio2:amd64 (19.6.0-1.1) ...\n",
      "\u001b7\u001b[24;0f\u001b[42m\u001b[30mProgress: [ 32%]\u001b[49m\u001b[39m [##################........................................] \u001b8Selecting previously unselected package libportaudiocpp0:amd64.\n",
      "Preparing to unpack .../4-libportaudiocpp0_19.6.0-1.1_amd64.deb ...\n",
      "\u001b7\u001b[24;0f\u001b[42m\u001b[30mProgress: [ 36%]\u001b[49m\u001b[39m [####################......................................] \u001b8Unpacking libportaudiocpp0:amd64 (19.6.0-1.1) ...\n",
      "\u001b7\u001b[24;0f\u001b[42m\u001b[30mProgress: [ 40%]\u001b[49m\u001b[39m [#######################...................................] \u001b8Selecting previously unselected package portaudio19-dev:amd64.\n",
      "Preparing to unpack .../5-portaudio19-dev_19.6.0-1.1_amd64.deb ...\n",
      "\u001b7\u001b[24;0f\u001b[42m\u001b[30mProgress: [ 44%]\u001b[49m\u001b[39m [#########################.................................] \u001b8Unpacking portaudio19-dev:amd64 (19.6.0-1.1) ...\n",
      "\u001b7\u001b[24;0f\u001b[42m\u001b[30mProgress: [ 48%]\u001b[49m\u001b[39m [###########################...............................] \u001b8Setting up libjack0:amd64 (1:0.125.0-3build2) ...\n",
      "\u001b7\u001b[24;0f\u001b[42m\u001b[30mProgress: [ 52%]\u001b[49m\u001b[39m [##############################............................] \u001b8\u001b7\u001b[24;0f\u001b[42m\u001b[30mProgress: [ 56%]\u001b[49m\u001b[39m [################################..........................] \u001b8Setting up libjack-dev (1:0.125.0-3build2) ...\n",
      "\u001b7\u001b[24;0f\u001b[42m\u001b[30mProgress: [ 60%]\u001b[49m\u001b[39m [##################################........................] \u001b8\u001b7\u001b[24;0f\u001b[42m\u001b[30mProgress: [ 64%]\u001b[49m\u001b[39m [#####################################.....................] \u001b8Setting up libasound2-dev:amd64 (1.2.6.1-1ubuntu1) ...\n",
      "\u001b7\u001b[24;0f\u001b[42m\u001b[30mProgress: [ 68%]\u001b[49m\u001b[39m [#######################################...................] \u001b8\u001b7\u001b[24;0f\u001b[42m\u001b[30mProgress: [ 72%]\u001b[49m\u001b[39m [#########################################.................] \u001b8Setting up libportaudio2:amd64 (19.6.0-1.1) ...\n",
      "\u001b7\u001b[24;0f\u001b[42m\u001b[30mProgress: [ 76%]\u001b[49m\u001b[39m [############################################..............] \u001b8\u001b7\u001b[24;0f\u001b[42m\u001b[30mProgress: [ 80%]\u001b[49m\u001b[39m [##############################################............] \u001b8Setting up libportaudiocpp0:amd64 (19.6.0-1.1) ...\n",
      "\u001b7\u001b[24;0f\u001b[42m\u001b[30mProgress: [ 84%]\u001b[49m\u001b[39m [################################################..........] \u001b8\u001b7\u001b[24;0f\u001b[42m\u001b[30mProgress: [ 88%]\u001b[49m\u001b[39m [###################################################.......] \u001b8Setting up portaudio19-dev:amd64 (19.6.0-1.1) ...\n",
      "\u001b7\u001b[24;0f\u001b[42m\u001b[30mProgress: [ 92%]\u001b[49m\u001b[39m [#####################################################.....] \u001b8\u001b7\u001b[24;0f\u001b[42m\u001b[30mProgress: [ 96%]\u001b[49m\u001b[39m [#######################################################...] \u001b8Processing triggers for libc-bin (2.35-0ubuntu3.6) ...\n",
      "\n",
      "\u001b7\u001b[0;24r\u001b8\u001b[1A\u001b[J"
     ]
    }
   ],
   "source": [
    "# https://stackoverflow.com/questions/73268630/error-could-not-build-wheels-for-pyaudio-which-is-required-to-install-pyprojec\n",
    "# For linux \n",
    "\n",
    "!echo Y | sudo apt install portaudio19-dev"
   ]
  },
  {
   "cell_type": "code",
   "execution_count": 7,
   "metadata": {},
   "outputs": [
    {
     "name": "stdout",
     "output_type": "stream",
     "text": [
      "Note: you may need to restart the kernel to use updated packages.\n"
     ]
    }
   ],
   "source": [
    "%pip install --upgrade --quiet pyaudio"
   ]
  },
  {
   "cell_type": "code",
   "execution_count": 8,
   "metadata": {},
   "outputs": [],
   "source": [
    "import os\n",
    "import sys\n",
    "import threading\n",
    "\n",
    "directory = os.getcwd()\n",
    "# Append sys path to refer utils.\n",
    "sys.path.append(directory+\"/src\")\n",
    "\n",
    "import listen\n",
    "from listen import MicrophoneStream\n",
    "from process import VoiceTranslation\n",
    "vo_tran = VoiceTranslation()"
   ]
  },
  {
   "cell_type": "code",
   "execution_count": 9,
   "metadata": {},
   "outputs": [],
   "source": [
    "%load_ext autoreload\n",
    "%autoreload 2"
   ]
  },
  {
   "cell_type": "code",
   "execution_count": 10,
   "metadata": {},
   "outputs": [],
   "source": [
    "source_lang_options = (['한국어','ko-KR'],\n",
    "            ['영어','en-US'],\n",
    "            ['일본어','ja-JP'],\n",
    "            ['베트남어','vi-VN'],\n",
    "            ['말레이시아어','ms-MY'],\n",
    "            ['인도네시아어','id-ID'],\n",
    "            ['필리핀어','fil-PH'])\n",
    "\n",
    "target_lang_options = (['한국어','ko-KR'],\n",
    "            ['영어','en-US'],\n",
    "            ['일본어','ja-JP'],\n",
    "            ['베트남어','vi-VN'],\n",
    "            ['말레이시아어','ms-MY'],\n",
    "            ['인도네시아어','id-ID'],\n",
    "            ['캄보디아','km-KH'],\n",
    "            ['필리핀어','fil-PH'])"
   ]
  },
  {
   "cell_type": "code",
   "execution_count": 11,
   "metadata": {},
   "outputs": [],
   "source": [
    "class ListenThread(threading.Thread):\n",
    "    def __init__(self, stop_event):\n",
    "        super(ListenThread, self).__init__()\n",
    "        self.stop_event = stop_event    \n",
    "\n",
    "    def run(self):\n",
    "        listen.process(self.stop_event)\n",
    "\n",
    "def looper_control(state, stop_event):\n",
    "    if state == 'start':\n",
    "        t = ListenThread(stop_event=stop_event)\n",
    "        t.start()\n",
    "    elif state == 'stop':\n",
    "        stop_event.set()"
   ]
  },
  {
   "cell_type": "code",
   "execution_count": null,
   "metadata": {},
   "outputs": [],
   "source": [
    "MicrophoneStream.receive_q.queue.clear()\n",
    "\n",
    "stop_thread_event = threading.Event()\n",
    "looper_control('start', stop_thread_event)\n",
    "\n",
    "translated_dict = vo_tran.interpret(source_lang_code = source_lang_options[0][1],\n",
    "                                    target_lang_code = target_lang_options[1][1],\n",
    "                                    lang_options = target_lang_options\n",
    "                                    )\n",
    "\n",
    "from playsound import playsound\n",
    "playsound('output.mp3')  \n",
    "\n",
    "looper_control('stop', stop_thread_event)\n",
    "\n",
    "print(translated_dict)"
   ]
  }
 ],
 "metadata": {
  "kernelspec": {
   "display_name": "audio_translation-aYAURi_J",
   "language": "python",
   "name": "python3"
  },
  "language_info": {
   "codemirror_mode": {
    "name": "ipython",
    "version": 3
   },
   "file_extension": ".py",
   "mimetype": "text/x-python",
   "name": "python",
   "nbconvert_exporter": "python",
   "pygments_lexer": "ipython3",
   "version": "3.10.12"
  }
 },
 "nbformat": 4,
 "nbformat_minor": 2
}
